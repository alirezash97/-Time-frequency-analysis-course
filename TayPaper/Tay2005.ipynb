{
  "nbformat": 4,
  "nbformat_minor": 0,
  "metadata": {
    "colab": {
      "name": "Tay2005.ipynb",
      "provenance": [],
      "authorship_tag": "ABX9TyNyXMMvjx5GW/oGykrJOsMf",
      "include_colab_link": true
    },
    "kernelspec": {
      "name": "python3",
      "display_name": "Python 3"
    }
  },
  "cells": [
    {
      "cell_type": "markdown",
      "metadata": {
        "id": "view-in-github",
        "colab_type": "text"
      },
      "source": [
        "<a href=\"https://colab.research.google.com/github/alirezash97/Time-frequency-analysis-course/blob/main/TayPaper/Tay2005.ipynb\" target=\"_parent\"><img src=\"https://colab.research.google.com/assets/colab-badge.svg\" alt=\"Open In Colab\"/></a>"
      ]
    },
    {
      "cell_type": "code",
      "metadata": {
        "id": "ap6z5iG2nPKd"
      },
      "source": [
        "import math\r\n",
        "import numpy as np\r\n",
        "import matplotlib.pyplot as plt\r\n"
      ],
      "execution_count": 31,
      "outputs": []
    },
    {
      "cell_type": "code",
      "metadata": {
        "colab": {
          "base_uri": "https://localhost:8080/"
        },
        "id": "CiO8EdlBRHLu",
        "outputId": "56aa5287-52f5-4f37-caf2-57b50d9fc4a8"
      },
      "source": [
        "# inputs \r\n",
        "filter_length = int(input(\"Please enter filter length: \"))\r\n",
        "Vanishing_moments = int(input(\"Please enter the number of vanishing moments: \"))\r\n",
        "number_of_pin = int(input(\"How any pins you want? \"))\r\n",
        "zero_pinning = []\r\n",
        "for i in range(number_of_pin):\r\n",
        "  temp = float(input(\"Enter %dth pin: \" %(i+1)))\r\n",
        "  zero_pinning.append(temp)\r\n"
      ],
      "execution_count": 64,
      "outputs": [
        {
          "output_type": "stream",
          "text": [
            "Please enter filter length: 10\n",
            "Please enter the number of vanishing moments: 3\n",
            "How any pins you want? 5\n",
            "Enter 1th pin: 1\n",
            "Enter 2th pin: 0.2\n",
            "Enter 3th pin: 0.4\n",
            "Enter 4th pin: 3\n",
            "Enter 5th pin: 2\n"
          ],
          "name": "stdout"
        }
      ]
    },
    {
      "cell_type": "code",
      "metadata": {
        "id": "LHEVhutN3XX5"
      },
      "source": [
        "alpha_column_shape = int((filter_length-1)/2) - (Vanishing_moments+1)\r\n",
        "alpha = np.zeros((1, alpha_column_shape))"
      ],
      "execution_count": 69,
      "outputs": []
    },
    {
      "cell_type": "code",
      "metadata": {
        "id": "Mx-6dOFOl3d-"
      },
      "source": [
        "def K(x):\r\n",
        "   \r\n",
        "   \r\n",
        "   output = []\r\n",
        "   for i in range(int((filter_length-1)/2)):\r\n",
        "     \r\n",
        "     combination_statement =  math.factorial(filter_length) / (math.factorial(i) * math.factorial(filter_length-i))\r\n",
        "     second_statement = np.multiply( np.power(x, i), np.power( (1-x), filter_length-i ))\r\n",
        "     final_statement = np.multiply(combination_statement, second_statement)\r\n",
        "     output.append(final_statement)\r\n",
        "  \r\n",
        "   return np.sum(output)\r\n",
        "\r\n"
      ],
      "execution_count": 60,
      "outputs": []
    },
    {
      "cell_type": "code",
      "metadata": {
        "id": "zCF3VFlSqASj"
      },
      "source": [
        "def Kl(x):\r\n",
        "\r\n",
        "\r\n",
        "  combination_statement =  math.factorial(filter_length) / (math.factorial(Vanishing_moments) * math.factorial(filter_length-Vanishing_moments))\r\n",
        "  second_statement = np.multiply(np.power(x, Vanishing_moments), np.power((1-x), (filter_length-Vanishing_moments))) \r\n",
        "  tirth_statement = np.multiply( np.power(x, (filter_length-Vanishing_moments)), np.power((1-x), Vanishing_moments))\r\n",
        "  final_statement = np.multiply(combination_statement, (second_statement - tirth_statement))\r\n",
        "\r\n",
        "  return final_statement\r\n",
        "\r\n"
      ],
      "execution_count": 61,
      "outputs": []
    },
    {
      "cell_type": "code",
      "metadata": {
        "id": "u4yEhsr_wcK1"
      },
      "source": [
        ""
      ],
      "execution_count": null,
      "outputs": []
    }
  ]
}