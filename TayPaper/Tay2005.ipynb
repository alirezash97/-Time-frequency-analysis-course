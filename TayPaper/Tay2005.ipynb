{
  "nbformat": 4,
  "nbformat_minor": 0,
  "metadata": {
    "colab": {
      "name": "Tay2005.ipynb",
      "provenance": [],
      "authorship_tag": "ABX9TyOHfirM8ZBbYfA1PWt+A7/y",
      "include_colab_link": true
    },
    "kernelspec": {
      "name": "python3",
      "display_name": "Python 3"
    }
  },
  "cells": [
    {
      "cell_type": "markdown",
      "metadata": {
        "id": "view-in-github",
        "colab_type": "text"
      },
      "source": [
        "<a href=\"https://colab.research.google.com/github/alirezash97/Time-frequency-analysis-course/blob/main/TayPaper/Tay2005.ipynb\" target=\"_parent\"><img src=\"https://colab.research.google.com/assets/colab-badge.svg\" alt=\"Open In Colab\"/></a>"
      ]
    },
    {
      "cell_type": "code",
      "metadata": {
        "id": "ap6z5iG2nPKd"
      },
      "source": [
        "import math\r\n",
        "import numpy as np\r\n",
        "import matplotlib.pyplot as plt\r\n",
        "import sympy as sym\r\n",
        "from sympy import *\r\n"
      ],
      "execution_count": 1,
      "outputs": []
    },
    {
      "cell_type": "code",
      "metadata": {
        "id": "Mx-6dOFOl3d-"
      },
      "source": [
        "\r\n",
        "def K(x):\r\n",
        "\r\n",
        "   \r\n",
        "   \r\n",
        "  output = []\r\n",
        "  for i in range(int((filter_length-1)/2)):\r\n",
        "     \r\n",
        "    combination_statement =  math.factorial(filter_length) / (math.factorial(i) * math.factorial(filter_length-i))\r\n",
        "    second_statement = np.multiply( np.power(x, i), np.power( (1-x), filter_length-i ))\r\n",
        "    final_statement = np.multiply(combination_statement, second_statement)\r\n",
        "    output.append(final_statement)\r\n",
        "  \r\n",
        "  return np.sum(output)\r\n",
        "\r\n",
        " ######################################\r\n"
      ],
      "execution_count": 2,
      "outputs": []
    },
    {
      "cell_type": "code",
      "metadata": {
        "id": "zCF3VFlSqASj"
      },
      "source": [
        "\r\n",
        "def kl(x, l):\r\n",
        "\r\n",
        "\r\n",
        "  combination_statement =  math.factorial(filter_length) / (math.factorial(l) * math.factorial(filter_length-l))\r\n",
        "  second_statement = np.multiply(np.power(x, l), np.power((1-x), (filter_length-l))) \r\n",
        "  tirth_statement = np.multiply( np.power(x, (filter_length-l)), np.power((1-x), l))\r\n",
        "  final_statement = np.multiply(combination_statement, (second_statement - tirth_statement))\r\n",
        "\r\n",
        "  return final_statement\r\n",
        "\r\n",
        "  #####################################\r\n"
      ],
      "execution_count": 3,
      "outputs": []
    },
    {
      "cell_type": "code",
      "metadata": {
        "id": "u4yEhsr_wcK1"
      },
      "source": [
        "def B(x, alpha_list):\r\n",
        "\r\n",
        "\r\n",
        "  sigma = []\r\n",
        "  for l in range( Vanishing_moments, int((filter_length-1)/2) ):\r\n",
        "    sigma.append(np.multiply( kl(x, l), alpha_list[l]))\r\n",
        "  final_equation = K(x) - np.sum(sigma)\r\n",
        "  \r\n",
        "  return final_equation"
      ],
      "execution_count": 48,
      "outputs": []
    },
    {
      "cell_type": "code",
      "metadata": {
        "id": "JJjsu_9bh38m"
      },
      "source": [
        "def main_function():\r\n",
        "  \r\n",
        "  \r\n",
        "  # inputs\r\n",
        "  global filter_length \r\n",
        "  global Vanishing_moments\r\n",
        "  filter_length = int(input(\"Please enter filter length: \"))\r\n",
        "  Vanishing_moments = int(input(\"Please enter the number of vanishing moments: \"))\r\n",
        "  while int(((filter_length-1)/2-Vanishing_moments)) %2 != 0:\r\n",
        "    Vanishing_moments = int(input(\"Please enter another number for vanishing moments: \"))\r\n",
        "  else:\r\n",
        "    pass\r\n",
        "  \r\n",
        "  global number_of_pin\r\n",
        "  number_of_pin = int(1/2*((filter_length - 1) /2-Vanishing_moments))\r\n",
        "  print(\"You have to choose %d\"%number_of_pin, \"pins\")\r\n",
        "  global zero_pinning\r\n",
        "  zero_pinning = []\r\n",
        "  for i in range(number_of_pin):\r\n",
        "    temp = float(input(\"Enter %dth pin: \" %(i+1)))\r\n",
        "    zero_pinning.append(temp)\r\n",
        "    #############\r\n",
        "\r\n",
        "  # create symbols\r\n",
        "  global alpha_list\r\n",
        "  alpha_list = []\r\n",
        "  for i in range(1, filter_length+1):\r\n",
        "    alpha_list.append(sym.symbols('alpha%d'%i))\r\n",
        "\r\n",
        "  global x_list\r\n",
        "  x_list = []\r\n",
        "  for i in range(len(zero_pinning)):\r\n",
        "    x_list.append(sym.symbols('x%d'%i))\r\n",
        "  #############\r\n",
        "\r\n",
        "  # create equations\r\n",
        "  global my_equations\r\n",
        "  my_equations = []\r\n",
        "  for i in range(len(x_list)):\r\n",
        "\r\n",
        "    Eq1 = sym.Eq(B(x_list[i], alpha_list), 0)\r\n",
        "    my_equations.append(Eq1)\r\n",
        "\r\n",
        "    Eq2 = sym.Eq(diff(B(x_list[i], alpha_list), x_list[i]))\r\n",
        "    my_equations.append(Eq2)\r\n",
        "  ##############\r\n",
        "\r\n",
        "  # replace x with zero pinning values\r\n",
        "  global replaced_equations\r\n",
        "  replaced_equations = []\r\n",
        "  for i, equation in enumerate(my_equations):\r\n",
        "    replaced = equation.subs(x_list[math.floor(i/2)], zero_pinning[math.floor(i/2)])\r\n",
        "    replaced_equations.append(replaced)\r\n",
        "  ###############\r\n",
        "\r\n",
        "  # find alphas using equations\r\n",
        "  global alpha_results\r\n",
        "  alpha_results = solve([i for i in replaced_equations], [j for j in alpha_list[Vanishing_moments : int((filter_length-1)/2)]])\r\n",
        "  ###############\r\n",
        "\r\n",
        "\r\n",
        "  # plot \r\n",
        "  my_array = []\r\n",
        "  for key in alpha_results:\r\n",
        "    my_array.append(alpha_results[key])\r\n",
        "  alpha_values = np.zeros((len(alpha_list)))\r\n",
        "  alpha_values[Vanishing_moments : int((filter_length-1)/2)] = my_array\r\n",
        "  x = np.linspace(0, 1, num=100)\r\n",
        "  fx = []\r\n",
        "  for i in range(len(x)):\r\n",
        "    fx.append(B(x[i], alpha_values))\r\n",
        "  plt.plot(x, fx)\r\n",
        "\r\n",
        "\r\n",
        "  return alpha_results\r\n",
        "\r\n",
        "\r\n"
      ],
      "execution_count": 60,
      "outputs": []
    },
    {
      "cell_type": "code",
      "metadata": {
        "colab": {
          "base_uri": "https://localhost:8080/",
          "height": 349
        },
        "id": "1FwQhrogjE_n",
        "outputId": "21558b5e-1bc5-46ec-d144-ca14c102a5fc"
      },
      "source": [
        "my_alphas = main_function()\r\n",
        "print(my_alphas)"
      ],
      "execution_count": 50,
      "outputs": [
        {
          "output_type": "stream",
          "text": [
            "Please enter filter length: 11\n",
            "Please enter the number of vanishing moments: 3\n",
            "You have to choose 1 pins\n",
            "Enter 1th pin: 0.8\n",
            "{alpha4: 0.0294858504814740, alpha5: -0.0778801978958683}\n"
          ],
          "name": "stdout"
        },
        {
          "output_type": "display_data",
          "data": {
            "image/png": "[encoded data removed]",
            "text/plain": [
              "<Figure size 432x288 with 1 Axes>"
            ]
          },
          "metadata": {
            "tags": [],
            "needs_background": "light"
          }
        }
      ]
    },
    {
      "cell_type": "code",
      "metadata": {
        "colab": {
          "base_uri": "https://localhost:8080/",
          "height": 349
        },
        "id": "fLhPpafZn6Cf",
        "outputId": "54211aa8-7269-42bc-afde-92dfb5b59d3f"
      },
      "source": [
        "my_alphas = main_function()\r\n",
        "print(my_alphas)"
      ],
      "execution_count": 51,
      "outputs": [
        {
          "output_type": "stream",
          "text": [
            "Please enter filter length: 11\n",
            "Please enter the number of vanishing moments: 3\n",
            "You have to choose 1 pins\n",
            "Enter 1th pin: 0.75\n",
            "{alpha4: 0.106916622529918, alpha5: -0.211490805369551}\n"
          ],
          "name": "stdout"
        },
        {
          "output_type": "display_data",
          "data": {
            "image/png": "[encoded data removed]",
            "text/plain": [
              "<Figure size 432x288 with 1 Axes>"
            ]
          },
          "metadata": {
            "tags": [],
            "needs_background": "light"
          }
        }
      ]
    },
    {
      "cell_type": "code",
      "metadata": {
        "colab": {
          "base_uri": "https://localhost:8080/",
          "height": 366
        },
        "id": "HEmd_MYLoHkO",
        "outputId": "ca3f8aa3-edc7-45b3-b3a3-6281b43a2651"
      },
      "source": [
        "my_alphas = main_function()\r\n",
        "print(my_alphas)"
      ],
      "execution_count": 53,
      "outputs": [
        {
          "output_type": "stream",
          "text": [
            "Please enter filter length: 15\n",
            "Please enter the number of vanishing moments: 3\n",
            "You have to choose 2 pins\n",
            "Enter 1th pin: 0.6\n",
            "Enter 2th pin: 0.8\n",
            "{alpha4: 6.79778005199386, alpha5: -23.4927897490313, alpha6: 36.3658081291036, alpha7: -24.6387814681112}\n"
          ],
          "name": "stdout"
        },
        {
          "output_type": "display_data",
          "data": {
            "image/png": "[encoded data removed]",
            "text/plain": [
              "<Figure size 432x288 with 1 Axes>"
            ]
          },
          "metadata": {
            "tags": [],
            "needs_background": "light"
          }
        }
      ]
    },
    {
      "cell_type": "code",
      "metadata": {
        "id": "HdCR1yEzqD1C",
        "outputId": "2e868f37-8802-4af8-d12b-9905004d1066",
        "colab": {
          "base_uri": "https://localhost:8080/",
          "height": 382
        }
      },
      "source": [
        "my_alphas = main_function()\r\n",
        "print(my_alphas)"
      ],
      "execution_count": 61,
      "outputs": [
        {
          "output_type": "stream",
          "text": [
            "Please enter filter length: 12\n",
            "Please enter the number of vanishing moments: 2\n",
            "Please enter another number for vanishing moments: 2\n",
            "Please enter another number for vanishing moments: 3\n",
            "You have to choose 1 pins\n",
            "Enter 1th pin: 0.8\n",
            "{alpha4: 0.0103133396809626, alpha5: -0.0227937281512760}\n"
          ],
          "name": "stdout"
        },
        {
          "output_type": "display_data",
          "data": {
            "image/png": "[encoded data removed]",
            "text/plain": [
              "<Figure size 432x288 with 1 Axes>"
            ]
          },
          "metadata": {
            "tags": [],
            "needs_background": "light"
          }
        }
      ]
    },
    {
      "cell_type": "code",
      "metadata": {
        "id": "EaAWQ_cmqgN2"
      },
      "source": [
        ""
      ],
      "execution_count": null,
      "outputs": []
    }
  ]
}