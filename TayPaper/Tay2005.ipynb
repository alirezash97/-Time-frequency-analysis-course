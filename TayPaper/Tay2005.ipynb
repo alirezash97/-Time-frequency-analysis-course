{
  "nbformat": 4,
  "nbformat_minor": 0,
  "metadata": {
    "colab": {
      "name": "Tay2005.ipynb",
      "provenance": [],
      "authorship_tag": "ABX9TyMVg1nUNCn0l0yY0GQEsCLf",
      "include_colab_link": true
    },
    "kernelspec": {
      "name": "python3",
      "display_name": "Python 3"
    }
  },
  "cells": [
    {
      "cell_type": "markdown",
      "metadata": {
        "id": "view-in-github",
        "colab_type": "text"
      },
      "source": [
        "<a href=\"https://colab.research.google.com/github/alirezash97/Time-frequency-analysis-course/blob/main/TayPaper/Tay2005.ipynb\" target=\"_parent\"><img src=\"https://colab.research.google.com/assets/colab-badge.svg\" alt=\"Open In Colab\"/></a>"
      ]
    },
    {
      "cell_type": "code",
      "metadata": {
        "id": "ap6z5iG2nPKd"
      },
      "source": [
        "import math\r\n",
        "import numpy as np\r\n",
        "import matplotlib.pyplot as plt\r\n",
        "import sympy as sym\r\n",
        "from sympy import *\r\n"
      ],
      "execution_count": 1,
      "outputs": []
    },
    {
      "cell_type": "code",
      "metadata": {
        "colab": {
          "base_uri": "https://localhost:8080/"
        },
        "id": "CiO8EdlBRHLu",
        "outputId": "df4bd671-0f33-4128-ef3d-d2621d1c07d8"
      },
      "source": [
        "# inputs \r\n",
        "filter_length = int(input(\"Please enter filter length: \"))\r\n",
        "Vanishing_moments = int(input(\"Please enter the number of vanishing moments: \"))\r\n",
        "if ((filter_length-1)/2-Vanishing_moments) %2 != 0:\r\n",
        "  Vanishing_moments = int(input(\"Please enter another number for vanishing moments: \"))\r\n",
        "else:\r\n",
        "  pass\r\n",
        "\r\n",
        "number_of_pin = int(1/2*((filter_length - 1) /2-Vanishing_moments))\r\n",
        "print(\"You have to choose %d\"%number_of_pin, \"pins\")\r\n",
        "zero_pinning = []\r\n",
        "for i in range(number_of_pin):\r\n",
        "  temp = float(input(\"Enter %dth pin: \" %(i+1)))\r\n",
        "  zero_pinning.append(temp)\r\n"
      ],
      "execution_count": 2,
      "outputs": [
        {
          "output_type": "stream",
          "text": [
            "Please enter filter length: 15\n",
            "Please enter the number of vanishing moments: 3\n",
            "You have to choose 2 pins\n",
            "Enter 1th pin: 0.6\n",
            "Enter 2th pin: 0.8\n"
          ],
          "name": "stdout"
        }
      ]
    },
    {
      "cell_type": "code",
      "metadata": {
        "id": "LHEVhutN3XX5"
      },
      "source": [
        "alpha_list = []\r\n",
        "for i in range(1, filter_length+1):\r\n",
        "  alpha_list.append(sym.symbols('alpha%d'%i))\r\n",
        "\r\n",
        "x_list = []\r\n",
        "for i in range(len(zero_pinning)):\r\n",
        "  x_list.append(sym.symbols('x%d'%i))\r\n",
        "\r\n"
      ],
      "execution_count": 3,
      "outputs": []
    },
    {
      "cell_type": "code",
      "metadata": {
        "id": "Mx-6dOFOl3d-"
      },
      "source": [
        "\r\n",
        "def K(x):\r\n",
        "\r\n",
        "   \r\n",
        "   \r\n",
        "  output = []\r\n",
        "  for i in range(int((filter_length-1)/2)):\r\n",
        "     \r\n",
        "    combination_statement =  math.factorial(filter_length) / (math.factorial(i) * math.factorial(filter_length-i))\r\n",
        "    second_statement = np.multiply( np.power(x, i), np.power( (1-x), filter_length-i ))\r\n",
        "    final_statement = np.multiply(combination_statement, second_statement)\r\n",
        "    output.append(final_statement)\r\n",
        "  \r\n",
        "  return np.sum(output)\r\n",
        "\r\n",
        " ######################################\r\n"
      ],
      "execution_count": 4,
      "outputs": []
    },
    {
      "cell_type": "code",
      "metadata": {
        "id": "zCF3VFlSqASj"
      },
      "source": [
        "\r\n",
        "def kl(x, l):\r\n",
        "\r\n",
        "\r\n",
        "  combination_statement =  math.factorial(filter_length) / (math.factorial(l) * math.factorial(filter_length-l))\r\n",
        "  second_statement = np.multiply(np.power(x, l), np.power((1-x), (filter_length-l))) \r\n",
        "  tirth_statement = np.multiply( np.power(x, (filter_length-l)), np.power((1-x), l))\r\n",
        "  final_statement = np.multiply(combination_statement, (second_statement - tirth_statement))\r\n",
        "\r\n",
        "  return final_statement\r\n",
        "\r\n",
        "  #####################################\r\n"
      ],
      "execution_count": 5,
      "outputs": []
    },
    {
      "cell_type": "code",
      "metadata": {
        "id": "u4yEhsr_wcK1"
      },
      "source": [
        "def B(x):\r\n",
        "\r\n",
        "\r\n",
        "  sigma = []\r\n",
        "  for l in range(Vanishing_moments, int((filter_length-1)/2)):\r\n",
        "    sigma.append(np.multiply( kl(x, l), alpha_list[l]))\r\n",
        "  final_equation = K(x) - np.sum(sigma)\r\n",
        "  \r\n",
        "  return final_equation"
      ],
      "execution_count": 6,
      "outputs": []
    },
    {
      "cell_type": "code",
      "metadata": {
        "id": "sBnXRnad4lzB"
      },
      "source": [
        "\r\n",
        "my_equations = []\r\n",
        "for i in range(len(x_list)):\r\n",
        "\r\n",
        "  Eq1 = sym.Eq(B(x_list[i]), 0)\r\n",
        "  my_equations.append(Eq1)\r\n",
        "\r\n",
        "  Eq2 = sym.Eq(diff(B(x_list[i]), x_list[i]))\r\n",
        "  my_equations.append(Eq2)\r\n",
        "\r\n"
      ],
      "execution_count": 7,
      "outputs": []
    },
    {
      "cell_type": "code",
      "metadata": {
        "id": "v4qXHpFGIYjw",
        "colab": {
          "base_uri": "https://localhost:8080/"
        },
        "outputId": "b3a935f7-3f5f-4e30-c1d0-8c3e3bb2b50c"
      },
      "source": [
        "for i in my_equations:\r\n",
        "  print(i)"
      ],
      "execution_count": 8,
      "outputs": [
        {
          "output_type": "stream",
          "text": [
            "Eq(-alpha4*(-455.0*x0**12*(-x0 + 1)**3 + 455.0*x0**3*(-x0 + 1)**12) - alpha5*(-1365.0*x0**11*(-x0 + 1)**4 + 1365.0*x0**4*(-x0 + 1)**11) - alpha6*(-3003.0*x0**10*(-x0 + 1)**5 + 3003.0*x0**5*(-x0 + 1)**10) - alpha7*(-5005.0*x0**9*(-x0 + 1)**6 + 5005.0*x0**6*(-x0 + 1)**9) + 5005.0*x0**6*(-x0 + 1)**9 + 3003.0*x0**5*(-x0 + 1)**10 + 1365.0*x0**4*(-x0 + 1)**11 + 455.0*x0**3*(-x0 + 1)**12 + 105.0*x0**2*(-x0 + 1)**13 + 15.0*x0*(-x0 + 1)**14 + 1.0*(-x0 + 1)**15, 0)\n",
            "Eq(-alpha4*(1365.0*x0**12*(-x0 + 1)**2 - 5460.0*x0**11*(-x0 + 1)**3 - 5460.0*x0**3*(-x0 + 1)**11 + 1365.0*x0**2*(-x0 + 1)**12) - alpha5*(5460.0*x0**11*(-x0 + 1)**3 - 15015.0*x0**10*(-x0 + 1)**4 - 15015.0*x0**4*(-x0 + 1)**10 + 5460.0*x0**3*(-x0 + 1)**11) - alpha6*(15015.0*x0**10*(-x0 + 1)**4 - 30030.0*x0**9*(-x0 + 1)**5 - 30030.0*x0**5*(-x0 + 1)**9 + 15015.0*x0**4*(-x0 + 1)**10) - alpha7*(30030.0*x0**9*(-x0 + 1)**5 - 45045.0*x0**8*(-x0 + 1)**6 - 45045.0*x0**6*(-x0 + 1)**8 + 30030.0*x0**5*(-x0 + 1)**9) - 45045.0*x0**6*(-x0 + 1)**8, 0)\n",
            "Eq(-alpha4*(-455.0*x1**12*(-x1 + 1)**3 + 455.0*x1**3*(-x1 + 1)**12) - alpha5*(-1365.0*x1**11*(-x1 + 1)**4 + 1365.0*x1**4*(-x1 + 1)**11) - alpha6*(-3003.0*x1**10*(-x1 + 1)**5 + 3003.0*x1**5*(-x1 + 1)**10) - alpha7*(-5005.0*x1**9*(-x1 + 1)**6 + 5005.0*x1**6*(-x1 + 1)**9) + 5005.0*x1**6*(-x1 + 1)**9 + 3003.0*x1**5*(-x1 + 1)**10 + 1365.0*x1**4*(-x1 + 1)**11 + 455.0*x1**3*(-x1 + 1)**12 + 105.0*x1**2*(-x1 + 1)**13 + 15.0*x1*(-x1 + 1)**14 + 1.0*(-x1 + 1)**15, 0)\n",
            "Eq(-alpha4*(1365.0*x1**12*(-x1 + 1)**2 - 5460.0*x1**11*(-x1 + 1)**3 - 5460.0*x1**3*(-x1 + 1)**11 + 1365.0*x1**2*(-x1 + 1)**12) - alpha5*(5460.0*x1**11*(-x1 + 1)**3 - 15015.0*x1**10*(-x1 + 1)**4 - 15015.0*x1**4*(-x1 + 1)**10 + 5460.0*x1**3*(-x1 + 1)**11) - alpha6*(15015.0*x1**10*(-x1 + 1)**4 - 30030.0*x1**9*(-x1 + 1)**5 - 30030.0*x1**5*(-x1 + 1)**9 + 15015.0*x1**4*(-x1 + 1)**10) - alpha7*(30030.0*x1**9*(-x1 + 1)**5 - 45045.0*x1**8*(-x1 + 1)**6 - 45045.0*x1**6*(-x1 + 1)**8 + 30030.0*x1**5*(-x1 + 1)**9) - 45045.0*x1**6*(-x1 + 1)**8, 0)\n"
          ],
          "name": "stdout"
        }
      ]
    },
    {
      "cell_type": "code",
      "metadata": {
        "id": "Chb5u1j7M0S1"
      },
      "source": [
        "replaced_equations = []\r\n",
        "for i, equation in enumerate(my_equations):\r\n",
        "  replaced = equation.subs(x_list[math.floor(i/2)], zero_pinning[math.floor(i/2)])\r\n",
        "  replaced_equations.append(replaced)"
      ],
      "execution_count": 9,
      "outputs": []
    },
    {
      "cell_type": "code",
      "metadata": {
        "id": "aAReignqrq8r",
        "colab": {
          "base_uri": "https://localhost:8080/"
        },
        "outputId": "b8062518-352c-4244-ca00-c18ed86b6c28"
      },
      "source": [
        "for i in replaced_equations:\r\n",
        "  print(i)"
      ],
      "execution_count": 10,
      "outputs": [
        {
          "output_type": "stream",
          "text": [
            "Eq(0.06173903683584*alpha4 + 0.11935591170048*alpha5 + 0.161452202655744*alpha6 + 0.14538350002176*alpha7 + 0.095047408156672, 0)\n",
            "Eq(0.833570390016*alpha4 + 1.211046100992*alpha5 + 1.1828350550016*alpha6 + 0.765176315904*alpha7 - 1.3773173686272, 0)\n",
            "Eq(0.25013794111488*alpha4 + 0.18759272103936*alpha5 + 0.103081530359808*alpha6 + 0.04232086290432*alpha7 + 0.000784985391103999, 0)\n",
            "Eq(5.36739839995803e-5*alpha4 - 1.171953549312*alpha5 - 1.2853702557696*alpha6 - 0.780920684544*alpha7 - 0.0302291877888, 0)\n"
          ],
          "name": "stdout"
        }
      ]
    },
    {
      "cell_type": "code",
      "metadata": {
        "id": "tbwutiZyuBem",
        "outputId": "2eb3e020-8f18-4cba-a286-e693330404ce",
        "colab": {
          "base_uri": "https://localhost:8080/"
        }
      },
      "source": [
        "solve([i for i in replaced_equations], [j for j in alpha_list[Vanishing_moments : int((filter_length-1)/2)]])"
      ],
      "execution_count": 12,
      "outputs": [
        {
          "output_type": "execute_result",
          "data": {
            "text/plain": [
              "{alpha4: 6.79778005199386,\n",
              " alpha5: -23.4927897490313,\n",
              " alpha6: 36.3658081291036,\n",
              " alpha7: -24.6387814681112}"
            ]
          },
          "metadata": {
            "tags": []
          },
          "execution_count": 12
        }
      ]
    },
    {
      "cell_type": "code",
      "metadata": {
        "id": "uSUEBrVXxr4Y"
      },
      "source": [
        ""
      ],
      "execution_count": null,
      "outputs": []
    }
  ]
}