{
  "nbformat": 4,
  "nbformat_minor": 0,
  "metadata": {
    "colab": {
      "name": "Tay2005.ipynb",
      "provenance": [],
      "authorship_tag": "ABX9TyOyEH6UzpGm4lkVNoU/AOOH",
      "include_colab_link": true
    },
    "kernelspec": {
      "name": "python3",
      "display_name": "Python 3"
    }
  },
  "cells": [
    {
      "cell_type": "markdown",
      "metadata": {
        "id": "view-in-github",
        "colab_type": "text"
      },
      "source": [
        "<a href=\"https://colab.research.google.com/github/alirezash97/Time-frequency-analysis-course/blob/main/TayPaper/Tay2005.ipynb\" target=\"_parent\"><img src=\"https://colab.research.google.com/assets/colab-badge.svg\" alt=\"Open In Colab\"/></a>"
      ]
    },
    {
      "cell_type": "code",
      "metadata": {
        "id": "ap6z5iG2nPKd"
      },
      "source": [
        "import math\r\n",
        "import numpy as np\r\n",
        "import matplotlib.pyplot as plt\r\n",
        "import sympy as sym\r\n",
        "from sympy import *\r\n"
      ],
      "execution_count": 1,
      "outputs": []
    },
    {
      "cell_type": "code",
      "metadata": {
        "id": "Mx-6dOFOl3d-"
      },
      "source": [
        "\r\n",
        "def K(x):\r\n",
        "\r\n",
        "   \r\n",
        "   \r\n",
        "  output = []\r\n",
        "  for i in range(int((filter_length-1)/2)):\r\n",
        "     \r\n",
        "    combination_statement =  math.factorial(filter_length) / (math.factorial(i) * math.factorial(filter_length-i))\r\n",
        "    second_statement = np.multiply( np.power(x, i), np.power( (1-x), filter_length-i ))\r\n",
        "    final_statement = np.multiply(combination_statement, second_statement)\r\n",
        "    output.append(final_statement)\r\n",
        "  \r\n",
        "  return np.sum(output)\r\n",
        "\r\n",
        " ######################################\r\n"
      ],
      "execution_count": 2,
      "outputs": []
    },
    {
      "cell_type": "code",
      "metadata": {
        "id": "zCF3VFlSqASj"
      },
      "source": [
        "\r\n",
        "def kl(x, l):\r\n",
        "\r\n",
        "\r\n",
        "  combination_statement =  math.factorial(filter_length) / (math.factorial(l) * math.factorial(filter_length-l))\r\n",
        "  second_statement = np.multiply(np.power(x, l), np.power((1-x), (filter_length-l))) \r\n",
        "  tirth_statement = np.multiply( np.power(x, (filter_length-l)), np.power((1-x), l))\r\n",
        "  final_statement = np.multiply(combination_statement, (second_statement - tirth_statement))\r\n",
        "\r\n",
        "  return final_statement\r\n",
        "\r\n",
        "  #####################################\r\n"
      ],
      "execution_count": 3,
      "outputs": []
    },
    {
      "cell_type": "code",
      "metadata": {
        "id": "u4yEhsr_wcK1"
      },
      "source": [
        "def B(x, alpha_list):\r\n",
        "\r\n",
        "\r\n",
        "  sigma = []\r\n",
        "  for l in range( Vanishing_moments+1, int((filter_length-1)/2)+1 ):\r\n",
        "    sigma.append(np.multiply( kl(x, l), alpha_list[l]))\r\n",
        "  final_equation = K(x) - np.sum(sigma)\r\n",
        "  \r\n",
        "  return final_equation"
      ],
      "execution_count": 5,
      "outputs": []
    },
    {
      "cell_type": "code",
      "metadata": {
        "id": "JJjsu_9bh38m"
      },
      "source": [
        "def main_function():\r\n",
        "  \r\n",
        "  \r\n",
        "  # inputs\r\n",
        "  global filter_length \r\n",
        "  global Vanishing_moments\r\n",
        "  filter_length = int(input(\"Please enter filter length: \"))\r\n",
        "  Vanishing_moments = int(input(\"Please enter the number of vanishing moments: \"))\r\n",
        "  if ((filter_length-1)/2-Vanishing_moments) %2 != 0:\r\n",
        "    Vanishing_moments = int(input(\"Please enter another number for vanishing moments: \"))\r\n",
        "  else:\r\n",
        "    pass\r\n",
        "  \r\n",
        "  global number_of_pin\r\n",
        "  number_of_pin = int(1/2*((filter_length - 1) /2-Vanishing_moments))\r\n",
        "  print(\"You have to choose %d\"%number_of_pin, \"pins\")\r\n",
        "  global zero_pinning\r\n",
        "  zero_pinning = []\r\n",
        "  for i in range(number_of_pin):\r\n",
        "    temp = float(input(\"Enter %dth pin: \" %(i+1)))\r\n",
        "    zero_pinning.append(temp)\r\n",
        "    #############\r\n",
        "\r\n",
        "  # create symbols\r\n",
        "  global alpha_list\r\n",
        "  alpha_list = []\r\n",
        "  for i in range(1, filter_length+1):\r\n",
        "    alpha_list.append(sym.symbols('alpha%d'%i))\r\n",
        "\r\n",
        "  global x_list\r\n",
        "  x_list = []\r\n",
        "  for i in range(len(zero_pinning)):\r\n",
        "    x_list.append(sym.symbols('x%d'%i))\r\n",
        "  #############\r\n",
        "\r\n",
        "  # create equations\r\n",
        "  global my_equations\r\n",
        "  my_equations = []\r\n",
        "  for i in range(len(x_list)):\r\n",
        "\r\n",
        "    Eq1 = sym.Eq(B(x_list[i], alpha_list), 0)\r\n",
        "    my_equations.append(Eq1)\r\n",
        "\r\n",
        "    Eq2 = sym.Eq(diff(B(x_list[i], alpha_list), x_list[i]))\r\n",
        "    my_equations.append(Eq2)\r\n",
        "  ##############\r\n",
        "\r\n",
        "  # replace x with zero pinning values\r\n",
        "  global replaced_equations\r\n",
        "  replaced_equations = []\r\n",
        "  for i, equation in enumerate(my_equations):\r\n",
        "    replaced = equation.subs(x_list[math.floor(i/2)], zero_pinning[math.floor(i/2)])\r\n",
        "    replaced_equations.append(replaced)\r\n",
        "  ###############\r\n",
        "\r\n",
        "  # find alphas using equations\r\n",
        "  global alpha_results\r\n",
        "  alpha_results = solve([i for i in replaced_equations], [j for j in alpha_list[Vanishing_moments+1 : int((filter_length-1)/2)+1]])\r\n",
        "  print(alpha_results)\r\n",
        "  ###############\r\n",
        "\r\n",
        "\r\n",
        "  # plot \r\n",
        "  my_array = []\r\n",
        "  for key in alpha_results:\r\n",
        "    my_array.append(alpha_results[key])\r\n",
        "  alpha_values = np.zeros((len(alpha_list)))\r\n",
        "  alpha_values[Vanishing_moments+1 : int((filter_length-1)/2)+1] = my_array\r\n",
        "  x = np.linspace(0, 1, num=100)\r\n",
        "  fx = []\r\n",
        "  for i in range(len(x)):\r\n",
        "    fx.append(B(x[i], alpha_values))\r\n",
        "  plt.plot(x, fx)\r\n",
        "\r\n",
        "\r\n",
        "  return None\r\n",
        "\r\n",
        "\r\n"
      ],
      "execution_count": 35,
      "outputs": []
    },
    {
      "cell_type": "code",
      "metadata": {
        "id": "1FwQhrogjE_n",
        "outputId": "d85f0385-cfa8-45ff-d5b2-47e0705366e4",
        "colab": {
          "base_uri": "https://localhost:8080/",
          "height": 366
        }
      },
      "source": [
        "main_function()"
      ],
      "execution_count": 36,
      "outputs": [
        {
          "output_type": "stream",
          "text": [
            "Please enter filter length: 13\n",
            "Please enter the number of vanishing moments: 2\n",
            "You have to choose 2 pins\n",
            "Enter 1th pin: 0.55\n",
            "Enter 2th pin: 0.65\n",
            "{alpha4: 2792.05136629122, alpha5: -8808.79294579528, alpha6: 15929.0957186354, alpha7: -20754.5381750998}\n"
          ],
          "name": "stdout"
        },
        {
          "output_type": "display_data",
          "data": {
            "image/png": "[encoded data removed]",
            "text/plain": [
              "<Figure size 432x288 with 1 Axes>"
            ]
          },
          "metadata": {
            "tags": [],
            "needs_background": "light"
          }
        }
      ]
    },
    {
      "cell_type": "code",
      "metadata": {
        "id": "fLhPpafZn6Cf",
        "outputId": "fcbd10f8-a312-4ae3-aee0-c351d67ee3d8",
        "colab": {
          "base_uri": "https://localhost:8080/",
          "height": 366
        }
      },
      "source": [
        "main_function()"
      ],
      "execution_count": 38,
      "outputs": [
        {
          "output_type": "stream",
          "text": [
            "Please enter filter length: 13\n",
            "Please enter the number of vanishing moments: 2\n",
            "You have to choose 2 pins\n",
            "Enter 1th pin: 0.65\n",
            "Enter 2th pin: 0.75\n",
            "{alpha4: 5.55953278066547, alpha5: -23.3372112687411, alpha6: 52.6565949466930, alpha7: -78.0635517707825}\n"
          ],
          "name": "stdout"
        },
        {
          "output_type": "display_data",
          "data": {
            "image/png": "[encoded data removed]",
            "text/plain": [
              "<Figure size 432x288 with 1 Axes>"
            ]
          },
          "metadata": {
            "tags": [],
            "needs_background": "light"
          }
        }
      ]
    },
    {
      "cell_type": "code",
      "metadata": {
        "id": "HEmd_MYLoHkO",
        "outputId": "98444e99-97ba-4e0c-e70f-f2e5019d2734",
        "colab": {
          "base_uri": "https://localhost:8080/",
          "height": 366
        }
      },
      "source": [
        "main_function()"
      ],
      "execution_count": 40,
      "outputs": [
        {
          "output_type": "stream",
          "text": [
            "Please enter filter length: 13\n",
            "Please enter the number of vanishing moments: 2\n",
            "You have to choose 2 pins\n",
            "Enter 1th pin: 0.65\n",
            "Enter 2th pin: 0.9\n",
            "{alpha4: 0.203832903548434, alpha5: -1.79545310691523, alpha6: 7.16206931031775, alpha7: -14.0148965766883}\n"
          ],
          "name": "stdout"
        },
        {
          "output_type": "display_data",
          "data": {
            "image/png": "[encoded data removed]",
            "text/plain": [
              "<Figure size 432x288 with 1 Axes>"
            ]
          },
          "metadata": {
            "tags": [],
            "needs_background": "light"
          }
        }
      ]
    }
  ]
}