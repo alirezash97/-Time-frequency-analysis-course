{
  "nbformat": 4,
  "nbformat_minor": 0,
  "metadata": {
    "colab": {
      "name": "Tay2005.ipynb",
      "provenance": [],
      "authorship_tag": "ABX9TyOnOqw5rMjkyAovF7UlNinr",
      "include_colab_link": true
    },
    "kernelspec": {
      "name": "python3",
      "display_name": "Python 3"
    }
  },
  "cells": [
    {
      "cell_type": "markdown",
      "metadata": {
        "id": "view-in-github",
        "colab_type": "text"
      },
      "source": [
        "<a href=\"https://colab.research.google.com/github/alirezash97/Time-frequency-analysis-course/blob/main/TayPaper/Tay2005.ipynb\" target=\"_parent\"><img src=\"https://colab.research.google.com/assets/colab-badge.svg\" alt=\"Open In Colab\"/></a>"
      ]
    },
    {
      "cell_type": "code",
      "metadata": {
        "id": "ap6z5iG2nPKd"
      },
      "source": [
        "import math\r\n",
        "import numpy as np\r\n",
        "import matplotlib.pyplot as plt\r\n",
        "import sympy\r\n"
      ],
      "execution_count": 106,
      "outputs": []
    },
    {
      "cell_type": "code",
      "metadata": {
        "colab": {
          "base_uri": "https://localhost:8080/"
        },
        "id": "CiO8EdlBRHLu",
        "outputId": "64c65189-fe85-4cb0-a4da-f381a8119aa2"
      },
      "source": [
        "# inputs \r\n",
        "filter_length = int(input(\"Please enter filter length: \"))\r\n",
        "Vanishing_moments = int(input(\"Please enter the number of vanishing moments: \"))\r\n",
        "number_of_pin = int(input(\"How any pins you want? \"))\r\n",
        "zero_pinning = []\r\n",
        "for i in range(number_of_pin):\r\n",
        "  temp = float(input(\"Enter %dth pin: \" %(i+1)))\r\n",
        "  zero_pinning.append(temp)\r\n"
      ],
      "execution_count": 188,
      "outputs": [
        {
          "output_type": "stream",
          "text": [
            "Please enter filter length: 19\n",
            "Please enter the number of vanishing moments: 4\n",
            "How any pins you want? 4\n",
            "Enter 1th pin: 0.2\n",
            "Enter 2th pin: 0.4\n",
            "Enter 3th pin: 0.6\n",
            "Enter 4th pin: .8\n"
          ],
          "name": "stdout"
        }
      ]
    },
    {
      "cell_type": "code",
      "metadata": {
        "id": "LHEVhutN3XX5"
      },
      "source": [
        "alpha_list = []\r\n",
        "for i in range(filter_length):\r\n",
        "  alpha_list.append(symbols('alpha%d'%i))\r\n",
        "\r\n",
        "# alpha_column_shape = int((filter_length-1)/2) - (Vanishing_moments+1)\r\n",
        "# alpha = np.zeros((1, alpha_column_shape))"
      ],
      "execution_count": 190,
      "outputs": []
    },
    {
      "cell_type": "code",
      "metadata": {
        "id": "Mx-6dOFOl3d-"
      },
      "source": [
        "\r\n",
        "def K(x):\r\n",
        "\r\n",
        "   \r\n",
        "   \r\n",
        "  output = []\r\n",
        "  for i in range(int((filter_length-1)/2)):\r\n",
        "     \r\n",
        "    combination_statement =  math.factorial(filter_length) / (math.factorial(i) * math.factorial(filter_length-i))\r\n",
        "    second_statement = np.multiply( np.power(x, i), np.power( (1-x), filter_length-i ))\r\n",
        "    final_statement = np.multiply(combination_statement, second_statement)\r\n",
        "    output.append(final_statement)\r\n",
        "  \r\n",
        "  return np.sum(output)\r\n",
        "\r\n",
        " ######################################\r\n"
      ],
      "execution_count": 191,
      "outputs": []
    },
    {
      "cell_type": "code",
      "metadata": {
        "id": "zCF3VFlSqASj"
      },
      "source": [
        "\r\n",
        "def kl(x, l):\r\n",
        "\r\n",
        "\r\n",
        "  combination_statement =  math.factorial(filter_length) / (math.factorial(l) * math.factorial(filter_length-l))\r\n",
        "  second_statement = np.multiply(np.power(x, l), np.power((1-x), (filter_length-l))) \r\n",
        "  tirth_statement = np.multiply( np.power(x, (filter_length-l)), np.power((1-x), l))\r\n",
        "  final_statement = np.multiply(combination_statement, (second_statement - tirth_statement))\r\n",
        "\r\n",
        "  return final_statement\r\n",
        "\r\n",
        "  #####################################\r\n"
      ],
      "execution_count": 192,
      "outputs": []
    },
    {
      "cell_type": "code",
      "metadata": {
        "id": "u4yEhsr_wcK1"
      },
      "source": [
        "def B(x):\r\n",
        "\r\n",
        "\r\n",
        "  sigma = []\r\n",
        "  for l in range(Vanishing_moments+1, int((filter_length-1)/2)):\r\n",
        "    sigma.append(np.multiply( kl(x, l), alpha_list[l]))\r\n",
        "  final_equation = K(x) - np.sum(sigma)\r\n",
        "  \r\n",
        "  return final_equation"
      ],
      "execution_count": 193,
      "outputs": []
    },
    {
      "cell_type": "code",
      "metadata": {
        "colab": {
          "base_uri": "https://localhost:8080/",
          "height": 471
        },
        "id": "sBnXRnad4lzB",
        "outputId": "1947441a-71b7-4b4a-f0e1-ca2fcb517882"
      },
      "source": [
        "x = zero_pinning\r\n",
        "my_equations = []\r\n",
        "for i in x:\r\n",
        "\r\n",
        "  Eq1 = Eq(B(i))\r\n",
        "  print(Eq1)\r\n",
        "  Eq2 = Eq(sympy.diff(Eq1))\r\n",
        "  my_equations.append(Eq1)\r\n",
        "  my_equations.append(Eq2)\r\n",
        "\r\n",
        "\r\n"
      ],
      "execution_count": 194,
      "outputs": [
        {
          "output_type": "stream",
          "text": [
            "Eq(-0.163648927186079*alpha5 - 0.0954564117987853*alpha6 - 0.0442784705578795*alpha7 - 0.0163609597955801*alpha8 + 0.993342345193299, 0)\n"
          ],
          "name": "stdout"
        },
        {
          "output_type": "error",
          "ename": "ValueError",
          "evalue": "ignored",
          "traceback": [
            "\u001b[0;31m---------------------------------------------------------------------------\u001b[0m",
            "\u001b[0;31mValueError\u001b[0m                                Traceback (most recent call last)",
            "\u001b[0;32m<ipython-input-194-45c94cb0d111>\u001b[0m in \u001b[0;36m<module>\u001b[0;34m()\u001b[0m\n\u001b[1;32m      5\u001b[0m   \u001b[0mEq1\u001b[0m \u001b[0;34m=\u001b[0m \u001b[0mEq\u001b[0m\u001b[0;34m(\u001b[0m\u001b[0mB\u001b[0m\u001b[0;34m(\u001b[0m\u001b[0mi\u001b[0m\u001b[0;34m)\u001b[0m\u001b[0;34m)\u001b[0m\u001b[0;34m\u001b[0m\u001b[0;34m\u001b[0m\u001b[0m\n\u001b[1;32m      6\u001b[0m   \u001b[0mprint\u001b[0m\u001b[0;34m(\u001b[0m\u001b[0mEq1\u001b[0m\u001b[0;34m)\u001b[0m\u001b[0;34m\u001b[0m\u001b[0;34m\u001b[0m\u001b[0m\n\u001b[0;32m----> 7\u001b[0;31m   \u001b[0mEq2\u001b[0m \u001b[0;34m=\u001b[0m \u001b[0mEq\u001b[0m\u001b[0;34m(\u001b[0m\u001b[0msympy\u001b[0m\u001b[0;34m.\u001b[0m\u001b[0mdiff\u001b[0m\u001b[0;34m(\u001b[0m\u001b[0mEq1\u001b[0m\u001b[0;34m)\u001b[0m\u001b[0;34m)\u001b[0m\u001b[0;34m\u001b[0m\u001b[0;34m\u001b[0m\u001b[0m\n\u001b[0m\u001b[1;32m      8\u001b[0m   \u001b[0mmy_equations\u001b[0m\u001b[0;34m.\u001b[0m\u001b[0mappend\u001b[0m\u001b[0;34m(\u001b[0m\u001b[0mEq1\u001b[0m\u001b[0;34m)\u001b[0m\u001b[0;34m\u001b[0m\u001b[0;34m\u001b[0m\u001b[0m\n\u001b[1;32m      9\u001b[0m   \u001b[0mmy_equations\u001b[0m\u001b[0;34m.\u001b[0m\u001b[0mappend\u001b[0m\u001b[0;34m(\u001b[0m\u001b[0mEq2\u001b[0m\u001b[0;34m)\u001b[0m\u001b[0;34m\u001b[0m\u001b[0;34m\u001b[0m\u001b[0m\n",
            "\u001b[0;32m/usr/local/lib/python3.6/dist-packages/sympy/core/function.py\u001b[0m in \u001b[0;36mdiff\u001b[0;34m(f, *symbols, **kwargs)\u001b[0m\n\u001b[1;32m   1835\u001b[0m     \u001b[0;32mexcept\u001b[0m \u001b[0mAttributeError\u001b[0m\u001b[0;34m:\u001b[0m\u001b[0;34m\u001b[0m\u001b[0;34m\u001b[0m\u001b[0m\n\u001b[1;32m   1836\u001b[0m         \u001b[0;32mpass\u001b[0m\u001b[0;34m\u001b[0m\u001b[0;34m\u001b[0m\u001b[0m\n\u001b[0;32m-> 1837\u001b[0;31m     \u001b[0;32mreturn\u001b[0m \u001b[0mDerivative\u001b[0m\u001b[0;34m(\u001b[0m\u001b[0mf\u001b[0m\u001b[0;34m,\u001b[0m \u001b[0;34m*\u001b[0m\u001b[0msymbols\u001b[0m\u001b[0;34m,\u001b[0m \u001b[0;34m**\u001b[0m\u001b[0mkwargs\u001b[0m\u001b[0;34m)\u001b[0m\u001b[0;34m\u001b[0m\u001b[0;34m\u001b[0m\u001b[0m\n\u001b[0m\u001b[1;32m   1838\u001b[0m \u001b[0;34m\u001b[0m\u001b[0m\n\u001b[1;32m   1839\u001b[0m \u001b[0;34m\u001b[0m\u001b[0m\n",
            "\u001b[0;32m/usr/local/lib/python3.6/dist-packages/sympy/core/function.py\u001b[0m in \u001b[0;36m__new__\u001b[0;34m(cls, expr, *variables, **assumptions)\u001b[0m\n\u001b[1;32m   1078\u001b[0m                         \u001b[0mSince\u001b[0m \u001b[0mthere\u001b[0m \u001b[0;32mis\u001b[0m \u001b[0mmore\u001b[0m \u001b[0mthan\u001b[0m \u001b[0mone\u001b[0m \u001b[0mvariable\u001b[0m \u001b[0;32min\u001b[0m \u001b[0mthe\u001b[0m\u001b[0;34m\u001b[0m\u001b[0;34m\u001b[0m\u001b[0m\n\u001b[1;32m   1079\u001b[0m                         \u001b[0mexpression\u001b[0m\u001b[0;34m,\u001b[0m \u001b[0mthe\u001b[0m \u001b[0mvariable\u001b[0m\u001b[0;34m(\u001b[0m\u001b[0ms\u001b[0m\u001b[0;34m)\u001b[0m \u001b[0mof\u001b[0m \u001b[0mdifferentiation\u001b[0m\u001b[0;34m\u001b[0m\u001b[0;34m\u001b[0m\u001b[0m\n\u001b[0;32m-> 1080\u001b[0;31m                         must be supplied to differentiate %s''' % expr))\n\u001b[0m\u001b[1;32m   1081\u001b[0m \u001b[0;34m\u001b[0m\u001b[0m\n\u001b[1;32m   1082\u001b[0m         \u001b[0;31m# Standardize the variables by sympifying them and making appending a\u001b[0m\u001b[0;34m\u001b[0m\u001b[0;34m\u001b[0m\u001b[0;34m\u001b[0m\u001b[0m\n",
            "\u001b[0;31mValueError\u001b[0m: \nSince there is more than one variable in the expression, the\nvariable(s) of differentiation must be supplied to differentiate\nEq(-0.163648927186079*alpha5 - 0.0954564117987853*alpha6 -\n0.0442784705578795*alpha7 - 0.0163609597955801*alpha8 +\n0.993342345193299, 0)"
          ]
        }
      ]
    },
    {
      "cell_type": "code",
      "metadata": {
        "id": "v4qXHpFGIYjw"
      },
      "source": [
        "for i in my_equations:\r\n",
        "  print(i)"
      ],
      "execution_count": 175,
      "outputs": []
    },
    {
      "cell_type": "code",
      "metadata": {
        "colab": {
          "base_uri": "https://localhost:8080/"
        },
        "id": "V4zEGcVD_5gq",
        "outputId": "91b3ddae-57a0-4764-ad79-c7b0a3c9d753"
      },
      "source": [
        "solve((my_equations[0], my_equations[1], my_equations[2], my_equations[3], my_equations[4], my_equations[5]), (alpha_list[0], alpha_list[1]))"
      ],
      "execution_count": 160,
      "outputs": [
        {
          "output_type": "execute_result",
          "data": {
            "text/plain": [
              "[]"
            ]
          },
          "metadata": {
            "tags": []
          },
          "execution_count": 160
        }
      ]
    },
    {
      "cell_type": "code",
      "metadata": {
        "id": "c74YJMI9DozX"
      },
      "source": [
        ""
      ],
      "execution_count": null,
      "outputs": []
    }
  ]
}