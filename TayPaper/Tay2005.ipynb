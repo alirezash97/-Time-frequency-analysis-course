{
  "nbformat": 4,
  "nbformat_minor": 0,
  "metadata": {
    "colab": {
      "name": "Tay2005.ipynb",
      "provenance": [],
      "authorship_tag": "ABX9TyMLdJV3eSXJjCdQYLdXMmI+",
      "include_colab_link": true
    },
    "kernelspec": {
      "name": "python3",
      "display_name": "Python 3"
    }
  },
  "cells": [
    {
      "cell_type": "markdown",
      "metadata": {
        "id": "view-in-github",
        "colab_type": "text"
      },
      "source": [
        "<a href=\"https://colab.research.google.com/github/alirezash97/Time-frequency-analysis-course/blob/main/TayPaper/Tay2005.ipynb\" target=\"_parent\"><img src=\"https://colab.research.google.com/assets/colab-badge.svg\" alt=\"Open In Colab\"/></a>"
      ]
    },
    {
      "cell_type": "code",
      "metadata": {
        "id": "ap6z5iG2nPKd"
      },
      "source": [
        "import math\r\n",
        "import numpy as np\r\n",
        "import matplotlib.pyplot as plt\r\n",
        "import sympy as sym\r\n",
        "from sympy import *\r\n"
      ],
      "execution_count": 1,
      "outputs": []
    },
    {
      "cell_type": "code",
      "metadata": {
        "colab": {
          "base_uri": "https://localhost:8080/"
        },
        "id": "CiO8EdlBRHLu",
        "outputId": "bc704afd-6cd7-401f-9340-3dd435e67f05"
      },
      "source": [
        "# inputs \r\n",
        "filter_length = int(input(\"Please enter filter length: \"))\r\n",
        "Vanishing_moments = int(input(\"Please enter the number of vanishing moments: \"))\r\n",
        "if ((filter_length-1)/2-Vanishing_moments) %2 != 0:\r\n",
        "  Vanishing_moments = int(input(\"Please enter another number for vanishing moments: \"))\r\n",
        "else:\r\n",
        "  pass\r\n",
        "\r\n",
        "number_of_pin = int(1/2*((filter_length - 1) /2-Vanishing_moments))\r\n",
        "print(\"You have to choose %d\"%number_of_pin, \"pins\")\r\n",
        "zero_pinning = []\r\n",
        "for i in range(number_of_pin):\r\n",
        "  temp = float(input(\"Enter %dth pin: \" %(i+1)))\r\n",
        "  zero_pinning.append(temp)\r\n"
      ],
      "execution_count": 3,
      "outputs": [
        {
          "output_type": "stream",
          "text": [
            "Please enter filter length: 13\n",
            "Please enter the number of vanishing moments: 2\n",
            "You have to choose 2 pins\n",
            "Enter 1th pin: 0.4\n",
            "Enter 2th pin: 0.8\n"
          ],
          "name": "stdout"
        }
      ]
    },
    {
      "cell_type": "code",
      "metadata": {
        "id": "LHEVhutN3XX5"
      },
      "source": [
        "alpha_list = []\r\n",
        "for i in range(1, filter_length+1):\r\n",
        "  alpha_list.append(sym.symbols('alpha%d'%i))\r\n",
        "\r\n",
        "x_list = []\r\n",
        "for i in range(len(zero_pinning)):\r\n",
        "  x_list.append(sym.symbols('x%d'%i))\r\n",
        "\r\n"
      ],
      "execution_count": 4,
      "outputs": []
    },
    {
      "cell_type": "code",
      "metadata": {
        "id": "Mx-6dOFOl3d-"
      },
      "source": [
        "\r\n",
        "def K(x):\r\n",
        "\r\n",
        "   \r\n",
        "   \r\n",
        "  output = []\r\n",
        "  for i in range(int((filter_length-1)/2)):\r\n",
        "     \r\n",
        "    combination_statement =  math.factorial(filter_length) / (math.factorial(i) * math.factorial(filter_length-i))\r\n",
        "    second_statement = np.multiply( np.power(x, i), np.power( (1-x), filter_length-i ))\r\n",
        "    final_statement = np.multiply(combination_statement, second_statement)\r\n",
        "    output.append(final_statement)\r\n",
        "  \r\n",
        "  return np.sum(output)\r\n",
        "\r\n",
        " ######################################\r\n"
      ],
      "execution_count": 5,
      "outputs": []
    },
    {
      "cell_type": "code",
      "metadata": {
        "id": "zCF3VFlSqASj"
      },
      "source": [
        "\r\n",
        "def kl(x, l):\r\n",
        "\r\n",
        "\r\n",
        "  combination_statement =  math.factorial(filter_length) / (math.factorial(l) * math.factorial(filter_length-l))\r\n",
        "  second_statement = np.multiply(np.power(x, l), np.power((1-x), (filter_length-l))) \r\n",
        "  tirth_statement = np.multiply( np.power(x, (filter_length-l)), np.power((1-x), l))\r\n",
        "  final_statement = np.multiply(combination_statement, (second_statement - tirth_statement))\r\n",
        "\r\n",
        "  return final_statement\r\n",
        "\r\n",
        "  #####################################\r\n"
      ],
      "execution_count": 6,
      "outputs": []
    },
    {
      "cell_type": "code",
      "metadata": {
        "id": "u4yEhsr_wcK1"
      },
      "source": [
        "def B(x):\r\n",
        "\r\n",
        "\r\n",
        "  sigma = []\r\n",
        "  for l in range(Vanishing_moments+1, int((filter_length-1)/2)+1):\r\n",
        "    sigma.append(np.multiply( kl(x, l), alpha_list[l]))\r\n",
        "  final_equation = K(x) - np.sum(sigma)\r\n",
        "  \r\n",
        "  return final_equation"
      ],
      "execution_count": 7,
      "outputs": []
    },
    {
      "cell_type": "code",
      "metadata": {
        "id": "sBnXRnad4lzB"
      },
      "source": [
        "\r\n",
        "my_equations = []\r\n",
        "for i in range(len(x_list)):\r\n",
        "\r\n",
        "  Eq1 = sym.Eq(B(x_list[i]), 0)\r\n",
        "  my_equations.append(Eq1)\r\n",
        "\r\n",
        "  Eq2 = sym.Eq(diff(B(x_list[i]), x_list[i]))\r\n",
        "  my_equations.append(Eq2)\r\n",
        "\r\n"
      ],
      "execution_count": 8,
      "outputs": []
    },
    {
      "cell_type": "code",
      "metadata": {
        "id": "v4qXHpFGIYjw",
        "outputId": "27c1089e-1161-4be2-c401-5a19f950c519",
        "colab": {
          "base_uri": "https://localhost:8080/"
        }
      },
      "source": [
        "for i in my_equations:\r\n",
        "  print(i)"
      ],
      "execution_count": 9,
      "outputs": [
        {
          "output_type": "stream",
          "text": [
            "Eq(-alpha4*(-286.0*x0**10*(-x0 + 1)**3 + 286.0*x0**3*(-x0 + 1)**10) - alpha5*(-715.0*x0**9*(-x0 + 1)**4 + 715.0*x0**4*(-x0 + 1)**9) - alpha6*(-1287.0*x0**8*(-x0 + 1)**5 + 1287.0*x0**5*(-x0 + 1)**8) - alpha7*(-1716.0*x0**7*(-x0 + 1)**6 + 1716.0*x0**6*(-x0 + 1)**7) + 1287.0*x0**5*(-x0 + 1)**8 + 715.0*x0**4*(-x0 + 1)**9 + 286.0*x0**3*(-x0 + 1)**10 + 78.0*x0**2*(-x0 + 1)**11 + 13.0*x0*(-x0 + 1)**12 + 1.0*(-x0 + 1)**13, 0)\n",
            "Eq(-alpha4*(858.0*x0**10*(-x0 + 1)**2 - 2860.0*x0**9*(-x0 + 1)**3 - 2860.0*x0**3*(-x0 + 1)**9 + 858.0*x0**2*(-x0 + 1)**10) - alpha5*(2860.0*x0**9*(-x0 + 1)**3 - 6435.0*x0**8*(-x0 + 1)**4 - 6435.0*x0**4*(-x0 + 1)**8 + 2860.0*x0**3*(-x0 + 1)**9) - alpha6*(6435.0*x0**8*(-x0 + 1)**4 - 10296.0*x0**7*(-x0 + 1)**5 - 10296.0*x0**5*(-x0 + 1)**7 + 6435.0*x0**4*(-x0 + 1)**8) - alpha7*(10296.0*x0**7*(-x0 + 1)**5 - 24024.0*x0**6*(-x0 + 1)**6 + 10296.0*x0**5*(-x0 + 1)**7) - 10296.0*x0**5*(-x0 + 1)**7, 0)\n",
            "Eq(-alpha4*(-286.0*x1**10*(-x1 + 1)**3 + 286.0*x1**3*(-x1 + 1)**10) - alpha5*(-715.0*x1**9*(-x1 + 1)**4 + 715.0*x1**4*(-x1 + 1)**9) - alpha6*(-1287.0*x1**8*(-x1 + 1)**5 + 1287.0*x1**5*(-x1 + 1)**8) - alpha7*(-1716.0*x1**7*(-x1 + 1)**6 + 1716.0*x1**6*(-x1 + 1)**7) + 1287.0*x1**5*(-x1 + 1)**8 + 715.0*x1**4*(-x1 + 1)**9 + 286.0*x1**3*(-x1 + 1)**10 + 78.0*x1**2*(-x1 + 1)**11 + 13.0*x1*(-x1 + 1)**12 + 1.0*(-x1 + 1)**13, 0)\n",
            "Eq(-alpha4*(858.0*x1**10*(-x1 + 1)**2 - 2860.0*x1**9*(-x1 + 1)**3 - 2860.0*x1**3*(-x1 + 1)**9 + 858.0*x1**2*(-x1 + 1)**10) - alpha5*(2860.0*x1**9*(-x1 + 1)**3 - 6435.0*x1**8*(-x1 + 1)**4 - 6435.0*x1**4*(-x1 + 1)**8 + 2860.0*x1**3*(-x1 + 1)**9) - alpha6*(6435.0*x1**8*(-x1 + 1)**4 - 10296.0*x1**7*(-x1 + 1)**5 - 10296.0*x1**5*(-x1 + 1)**7 + 6435.0*x1**4*(-x1 + 1)**8) - alpha7*(10296.0*x1**7*(-x1 + 1)**5 - 24024.0*x1**6*(-x1 + 1)**6 + 10296.0*x1**5*(-x1 + 1)**7) - 10296.0*x1**5*(-x1 + 1)**7, 0)\n"
          ],
          "name": "stdout"
        }
      ]
    },
    {
      "cell_type": "code",
      "metadata": {
        "id": "Chb5u1j7M0S1"
      },
      "source": [
        "replaced_equations = []\r\n",
        "for i, equation in enumerate(my_equations):\r\n",
        "  replaced = equation.subs(x_list[math.floor(i/2)], zero_pinning[math.floor(i/2)])\r\n",
        "  replaced_equations.append(replaced)"
      ],
      "execution_count": 10,
      "outputs": []
    },
    {
      "cell_type": "code",
      "metadata": {
        "id": "aAReignqrq8r",
        "outputId": "96d2a581-ce1d-448e-a02b-65ac2bc18976",
        "colab": {
          "base_uri": "https://localhost:8080/"
        }
      },
      "source": [
        "for i in replaced_equations:\r\n",
        "  print(i)"
      ],
      "execution_count": 11,
      "outputs": [
        {
          "output_type": "stream",
          "text": [
            "Eq(-0.1041996054528*alpha4 - 0.160170835968*alpha5 - 0.1557680357376*alpha6 - 0.0655865413632*alpha7 + 0.5743964233728, 0)\n",
            "Eq(1.144095473664*alpha4 + 1.30692317184*alpha5 + 0.949638463488001*alpha6 + 0.327932706816001*alpha7 - 2.951394361344, 0)\n",
            "Eq(0.2456571346944*alpha4 + 0.153395134464*alpha5 + 0.0680156725248*alpha6 + 0.0172738215936*alpha7 + 0.0012456206336, 0)\n",
            "Eq(-0.613486821376001*alpha4 - 1.33752160256*alpha5 - 0.999992328192*alpha6 - 0.331081580544*alpha7 - 0.0431845539839999, 0)\n"
          ],
          "name": "stdout"
        }
      ]
    },
    {
      "cell_type": "code",
      "metadata": {
        "id": "CfzVANz9_sTX"
      },
      "source": [
        ""
      ],
      "execution_count": null,
      "outputs": []
    }
  ]
}